{
 "cells": [
  {
   "cell_type": "markdown",
   "metadata": {},
   "source": [
    "Variable *declaration*"
   ]
  },
  {
   "cell_type": "code",
   "execution_count": null,
   "metadata": {},
   "outputs": [],
   "source": [
    "x=8 # Value of variable x was 8\n",
    "y= x**8 # Value of variable y was 16777216\n",
    "x = y - (x**5) # Value of variable x was 16744448\n",
    "print (y+(x%6)) # Value printed = 16777218\n"
   ]
  },
  {
   "cell_type": "markdown",
   "metadata": {},
   "source": [
    "**check** statement"
   ]
  },
  {
   "cell_type": "code",
   "execution_count": null,
   "metadata": {},
   "outputs": [],
   "source": [
    "if x==y:\n",
    "    print (x)\n",
    "else:\n",
    "    x=x+3 # Value of variable x was 16744451\n"
   ]
  },
  {
   "cell_type": "markdown",
   "metadata": {},
   "source": [
    "Variable *declaration*"
   ]
  },
  {
   "cell_type": "code",
   "execution_count": null,
   "metadata": {},
   "outputs": [],
   "source": [
    "x=8 # Value of variable x was 8\n",
    "y= x**8 # Value of variable y was 16777216\n",
    "x = y - (x**5) # Value of variable x was 16744448\n",
    "print (y+(x%6)) # Value printed = 16777218\n"
   ]
  },
  {
   "cell_type": "markdown",
   "metadata": {},
   "source": [
    "**check** statement"
   ]
  },
  {
   "cell_type": "code",
   "execution_count": null,
   "metadata": {},
   "outputs": [],
   "source": [
    "if x==y:\n",
    "    print (x)\n",
    "else:\n",
    "    x=x+3 # Value of variable x was 16744451\n"
   ]
  },
  {
   "cell_type": "markdown",
   "metadata": {},
   "source": [
    "Variable *declaration*"
   ]
  },
  {
   "cell_type": "code",
   "execution_count": null,
   "metadata": {},
   "outputs": [],
   "source": [
    "x=8 # Value of variable x was 8\n",
    "y= x**8 # Value of variable y was 16777216\n",
    "x = y - (x**5) # Value of variable x was 16744448\n",
    "print (y+(x%6)) # Value printed = 16777218\n"
   ]
  },
  {
   "cell_type": "markdown",
   "metadata": {},
   "source": [
    "**check** statement"
   ]
  },
  {
   "cell_type": "code",
   "execution_count": null,
   "metadata": {},
   "outputs": [],
   "source": [
    "if x==y:\n",
    "    print (x)\n",
    "else:\n",
    "    x=x+3 # Value of variable x was 16744451\n"
   ]
  },
  {
   "cell_type": "markdown",
   "metadata": {},
   "source": [
    "Variable *declaration*"
   ]
  },
  {
   "cell_type": "code",
   "execution_count": null,
   "metadata": {},
   "outputs": [],
   "source": [
    "x=8 # Value of variable x was 8\n",
    "y= x**8 # Value of variable y was 16777216\n",
    "x = y - (x**5) # Value of variable x was 16744448\n",
    "print (y+(x%6)) # Value printed = 16777218\n"
   ]
  },
  {
   "cell_type": "markdown",
   "metadata": {},
   "source": [
    "**check** statement"
   ]
  },
  {
   "cell_type": "code",
   "execution_count": null,
   "metadata": {},
   "outputs": [],
   "source": [
    "if x==y:\n",
    "    print (x)\n",
    "else:\n",
    "    x=x+3 # Value of variable x was 16744451\n"
   ]
  },
  {
   "cell_type": "markdown",
   "metadata": {},
   "source": [
    "Variable *declaration*"
   ]
  },
  {
   "cell_type": "code",
   "execution_count": null,
   "metadata": {},
   "outputs": [],
   "source": [
    "x=8 # Value of variable x was 8\n",
    "y= x**8 # Value of variable y was 16777216\n",
    "x = y - (x**5) # Value of variable x was 16744448\n",
    "print (y+(x%6)) # Value printed = 16777218\n"
   ]
  },
  {
   "cell_type": "markdown",
   "metadata": {},
   "source": [
    "**check** statement"
   ]
  },
  {
   "cell_type": "code",
   "execution_count": null,
   "metadata": {},
   "outputs": [],
   "source": [
    "if x==y:\n",
    "    print (x)\n",
    "else:\n",
    "    x=x+3 # Value of variable x was 16744451\n"
   ]
  }
 ],
 "metadata": {
  "kernelspec": {
   "display_name": "Python 3",
   "language": "python",
   "name": "python3"
  },
  "language_info": {
   "codemirror_mode": {
    "name": "ipython",
    "version": 3
   },
   "file_extension": ".py",
   "mimetype": "text/x-python",
   "name": "python",
   "nbconvert_exporter": "python",
   "pygments_lexer": "ipython3",
   "version": "3.5.2"
  }
 },
 "nbformat": 4,
 "nbformat_minor": 2
}
