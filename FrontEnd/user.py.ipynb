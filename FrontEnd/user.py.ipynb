{
 "cells": [
  {
   "cell_type": "markdown",
   "metadata": {},
   "source": [
    "Variable *declaration*"
   ]
  },
  {
   "cell_type": "code",
   "execution_count": null,
   "metadata": {},
   "outputs": [],
   "source": [
    "x=8\r",
    " # Value of variable x was 8\n",
    "y= x**8\r",
    " # Value of variable y was 16777216\n",
    "x = y - (x**5)\r",
    " # Value of variable x was 16744448\n",
    "print (y+(x%6))\r\n"
   ]
  },
  {
   "cell_type": "markdown",
   "metadata": {},
   "source": [
    "**check** statement"
   ]
  },
  {
   "cell_type": "code",
   "execution_count": null,
   "metadata": {},
   "outputs": [],
   "source": [
    "if x==y:\r\n",
    "    print (x)\r\n",
    "else:\r\n",
    "    x=x+3 # Value of variable x was 16744451\n"
   ]
  },
  {
   "cell_type": "markdown",
   "metadata": {},
   "source": [
    "Variable *declaration*"
   ]
  },
  {
   "cell_type": "code",
   "execution_count": null,
   "metadata": {},
   "outputs": [],
   "source": [
    "x=8\r",
    " # Value of variable x was 8\n",
    "y= x**8\r",
    " # Value of variable y was 16777216\n",
    "x = y - (x**5)\r",
    " # Value of variable x was 16744448\n",
    "print (y+(x%6))\r\n"
   ]
  },
  {
   "cell_type": "markdown",
   "metadata": {},
   "source": [
    "**check** statement"
   ]
  },
  {
   "cell_type": "code",
   "execution_count": null,
   "metadata": {},
   "outputs": [],
   "source": [
    "if x==y:\r\n",
    "    print (x)\r\n",
    "else:\r\n",
    "    x=x+3 # Value of variable x was 16744451\n"
   ]
  }
 ],
 "metadata": {},
 "nbformat": 4,
 "nbformat_minor": 2
}
